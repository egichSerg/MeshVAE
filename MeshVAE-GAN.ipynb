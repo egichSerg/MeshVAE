{
 "cells": [
  {
   "cell_type": "markdown",
   "id": "e432774b-6485-4086-83cf-02764af43311",
   "metadata": {},
   "source": [
    "# TODO:\n",
    "- Обновить на гитхабе этот ноутбук когда доучится"
   ]
  },
  {
   "cell_type": "markdown",
   "id": "07f3bee0-8646-4579-b5ac-aebf5e7af5b4",
   "metadata": {},
   "source": [
    "# Обучение MeshVAE!\n",
    "## Импорт библиотек"
   ]
  },
  {
   "cell_type": "code",
   "execution_count": 1,
   "id": "f3e7e920-742c-4641-9f6a-ef85c44c3a6f",
   "metadata": {},
   "outputs": [],
   "source": [
    "import torch\n",
    "import torch.nn as nn\n",
    "\n",
    "import os\n",
    "\n",
    "import pandas as pd\n",
    "import matplotlib.pyplot as plt\n",
    "\n",
    "import torchvision.transforms as transforms\n",
    "\n",
    "\n",
    "from torch.utils.checkpoint import checkpoint_sequential\n",
    "from torchvision.transforms import Resize\n",
    "from pathlib import Path\n",
    "from tqdm import tqdm\n",
    "\n",
    "from pytorch3d.renderer import look_at_view_transform\n",
    "from pytorch3d.renderer import (\n",
    "FoVPerspectiveCameras, VolumeRenderer,\n",
    "NDCGridRaysampler, EmissionAbsorptionRaymarcher\n",
    ")\n",
    "\n",
    "from modelnet import ModelNetRendersNoLabels\n",
    "\n",
    "from model_collection.MeshVAE import MeshVAE\n",
    "from model_collection.utils import huber_loss, max_VRAM_optim_fit\n",
    "from model_collection.VAE_loss.VaeLoss import VAELossGAN\n",
    "from model_collection.VAE_loss.vgg19 import VGG19\n",
    "\n",
    "os.environ[\"PYTORCH_CUDA_ALLOC_CONF\"] = \"expandable_segments:True\""
   ]
  },
  {
   "cell_type": "markdown",
   "id": "bc516114-11a9-468b-a670-5d97c8e207a3",
   "metadata": {},
   "source": [
    "## Определение девайса, датасета и даталоадера"
   ]
  },
  {
   "cell_type": "code",
   "execution_count": 2,
   "id": "c3725d17-087c-408a-91ae-d7a18d6f3242",
   "metadata": {},
   "outputs": [
    {
     "name": "stdout",
     "output_type": "stream",
     "text": [
      "Using cuda\n",
      "Test set has 10 classes\n",
      "Train set has 10 classes\n"
     ]
    }
   ],
   "source": [
    "USE_CUDA = True\n",
    "device = 'cuda' if torch.cuda.is_available() and USE_CUDA else 'cpu'\n",
    "print('Using', device)\n",
    "\n",
    "data_sheet = pd.read_csv('./modelnet_renders_metadata.csv')\n",
    "data_train = data_sheet[data_sheet['split'] == ' train']\n",
    "data_test = data_sheet[data_sheet['split'] == ' test']\n",
    "\n",
    "image_size = 64\n",
    "transform = transforms.Compose([transforms.Resize(image_size),\n",
    "                                transforms.CenterCrop(image_size),\n",
    "                                transforms.RandomHorizontalFlip(0.5),\n",
    "                                transforms.Normalize(0.5, 0.5)])\n",
    "\n",
    "dataset_train = ModelNetRendersNoLabels(dataset_root_dir=Path('/home/student/work/3d_Generative/model/modelNet_renders'),data_sheet=data_train, transform=transform, device=device)\n",
    "dataset_test = ModelNetRendersNoLabels(dataset_root_dir=Path('/home/student/work/3d_Generative/model/modelNet_renders'),data_sheet=data_test, transform=transform, device=device)\n",
    "\n",
    "print(f\"Test set has {len(data_test['class'].unique())} classes\\nTrain set has {len(data_train['class'].unique())} classes\")\n",
    "\n",
    "data_overfit = pd.DataFrame([data_train.iloc[0], data_train.iloc[0]]) # , data_test.iloc[450]\n",
    "dataset_overfit = ModelNetRendersNoLabels(dataset_root_dir=Path('/home/student/work/3d_Generative/model/modelNet_renders'),data_sheet=data_overfit, transform=None, device=device)\n",
    "overfit_dl = torch.utils.data.DataLoader(dataset = dataset_overfit,\n",
    "                                                      batch_size = 2,\n",
    "                                                      num_workers = 0,\n",
    "                                                      shuffle = True)\n",
    "\n",
    "BATCH_SIZE = 10\n",
    "\n",
    "train_dl = torch.utils.data.DataLoader(dataset = dataset_train,\n",
    "                                                      batch_size = BATCH_SIZE,\n",
    "                                                      num_workers = 0,\n",
    "                                                      shuffle = True)\n",
    "\n",
    "test_dl = torch.utils.data.DataLoader(dataset = dataset_test,\n",
    "                                                      batch_size = BATCH_SIZE,\n",
    "                                                      num_workers = 0,\n",
    "                                                      shuffle = False)"
   ]
  },
  {
   "cell_type": "markdown",
   "id": "3ee9c86c-7e5f-4745-b5e8-49e7c8009127",
   "metadata": {},
   "source": [
    "## Определение модели, оптимизатора и метода learning rate annealing"
   ]
  },
  {
   "cell_type": "code",
   "execution_count": 3,
   "id": "3ba6919f-6c96-421e-9cb8-142a2101e50c",
   "metadata": {},
   "outputs": [],
   "source": [
    "descriptor_sil = VGG19(num_classes=1).to(device)\n",
    "descriptor_col = VGG19(num_classes=1).to(device)\n",
    "\n",
    "descriptor_sil.load_state_dict(torch.load(Path('./models') / 'descriptor_sil' / 'best.pt'))\n",
    "descriptor_col.load_state_dict(torch.load(Path('./models') / 'descriptor_col' / 'best.pt'))\n",
    "\n",
    "\n",
    "sil_optimizer = torch.optim.Adam(descriptor_sil.parameters(), lr=1e-5)\n",
    "col_optimizer = torch.optim.Adam(descriptor_col.parameters(), lr=1e-5)\n",
    "\n",
    "\n",
    "model = MeshVAE().to(device)\n",
    "model.load_state_dict(torch.load(Path('./models') / 'MeshVAE' / '16' / 'last.pt'))\n",
    "criterion = VAELossGAN(device=device, clamp=True, clamp_threshold=10000., \n",
    "                       adv_net_sil=descriptor_sil, adv_net_sil_optim=sil_optimizer, \n",
    "                       adv_net_col=descriptor_col, adv_net_col_optim=col_optimizer,\n",
    "                       KLD_coef = 1.,)\n",
    "optimizer = torch.optim.Adam(model.parameters(), lr=1e-5)\n",
    "scheduler = None # torch.optim.lr_scheduler.CosineAnnealingWarmRestarts(optimizer=optimizer, T_0=60, T_mult=2)"
   ]
  },
  {
   "cell_type": "markdown",
   "id": "856f9bf9-79e3-4692-996d-52743d4c777d",
   "metadata": {},
   "source": [
    "## Обучение!"
   ]
  },
  {
   "cell_type": "code",
   "execution_count": null,
   "id": "baf89256-b3fc-466a-ae33-4255ea34443f",
   "metadata": {},
   "outputs": [
    {
     "name": "stdout",
     "output_type": "stream",
     "text": [
      "==========Epoch 1==========\n",
      "Training...\n"
     ]
    },
    {
     "name": "stderr",
     "output_type": "stream",
     "text": [
      "/home/student/miniforge3/envs/pytorch3d/lib/python3.9/site-packages/torch/utils/checkpoint.py:553: UserWarning: torch.utils.checkpoint.checkpoint_sequential: the use_reentrant parameter should be passed explicitly. In version 2.5 we will raise an exception if use_reentrant is not passed. use_reentrant=False is recommended, but if you need to preserve the current default behavior, you can pass use_reentrant=True. Refer to docs for more details on the differences between the two variants.\n",
      "  warnings.warn(\n",
      "/home/student/miniforge3/envs/pytorch3d/lib/python3.9/site-packages/torch/utils/checkpoint.py:87: UserWarning: None of the inputs have requires_grad=True. Gradients will be None\n",
      "  warnings.warn(\n",
      "/home/student/miniforge3/envs/pytorch3d/lib/python3.9/site-packages/pytorch3d/renderer/implicit/raymarching.py:188: UserWarning: One or more elements of rays_densities are outside of validrange (0.0, 1.0)\n",
      "  warnings.warn(\n",
      "100%|██████████| 399/399 [30:22<00:00,  4.57s/it]\n"
     ]
    },
    {
     "name": "stdout",
     "output_type": "stream",
     "text": [
      "Train loss: 0.90 | Test loss: 0.90\n",
      "Saved weights to models/MeshVAE/16/best.pt\n",
      "==========Epoch 2==========\n",
      "Training...\n"
     ]
    },
    {
     "name": "stderr",
     "output_type": "stream",
     "text": [
      "100%|██████████| 399/399 [30:19<00:00,  4.56s/it]\n"
     ]
    },
    {
     "name": "stdout",
     "output_type": "stream",
     "text": [
      "Train loss: 0.89 | Test loss: 0.89\n",
      "Saved weights to models/MeshVAE/16/best.pt\n",
      "==========Epoch 3==========\n",
      "Training...\n"
     ]
    },
    {
     "name": "stderr",
     "output_type": "stream",
     "text": [
      "100%|██████████| 399/399 [30:18<00:00,  4.56s/it]\n"
     ]
    },
    {
     "name": "stdout",
     "output_type": "stream",
     "text": [
      "Train loss: 0.89 | Test loss: 0.89\n",
      "Saved weights to models/MeshVAE/16/last.pt\n",
      "==========Epoch 4==========\n",
      "Training...\n"
     ]
    },
    {
     "name": "stderr",
     "output_type": "stream",
     "text": [
      "100%|██████████| 399/399 [30:23<00:00,  4.57s/it]\n"
     ]
    },
    {
     "name": "stdout",
     "output_type": "stream",
     "text": [
      "Train loss: 0.88 | Test loss: 0.88\n",
      "Saved weights to models/MeshVAE/16/best.pt\n",
      "==========Epoch 5==========\n",
      "Training...\n"
     ]
    },
    {
     "name": "stderr",
     "output_type": "stream",
     "text": [
      "100%|██████████| 399/399 [30:20<00:00,  4.56s/it]\n"
     ]
    },
    {
     "name": "stdout",
     "output_type": "stream",
     "text": [
      "Train loss: 0.89 | Test loss: 0.89\n",
      "Saved weights to models/MeshVAE/16/last.pt\n",
      "==========Epoch 6==========\n",
      "Training...\n"
     ]
    },
    {
     "name": "stderr",
     "output_type": "stream",
     "text": [
      "100%|██████████| 399/399 [30:20<00:00,  4.56s/it]\n"
     ]
    },
    {
     "name": "stdout",
     "output_type": "stream",
     "text": [
      "Train loss: 0.89 | Test loss: 0.89\n",
      "Saved weights to models/MeshVAE/16/last.pt\n",
      "==========Epoch 7==========\n",
      "Training...\n"
     ]
    },
    {
     "name": "stderr",
     "output_type": "stream",
     "text": [
      "  5%|▍         | 19/399 [01:27<28:52,  4.56s/it]"
     ]
    }
   ],
   "source": [
    "epochs = 10\n",
    "torch.cuda.empty_cache()\n",
    "# optimizer = torch.optim.Adam(model.parameters(), lr=5e-5)\n",
    "torch.autograd.set_detect_anomaly(True)\n",
    "max_VRAM_optim_fit(train_launch=16,\n",
    "                   model=model, optimizer=optimizer, criterion=criterion,\n",
    "                   train_dl=train_dl, test_dl=test_dl, \n",
    "                   device=device, epochs=epochs,\n",
    "                   scheduler=scheduler,\n",
    "                   weights_save_dir=Path('./models'),\n",
    "                   early_stopping=False, early_stopping_tolerance = 5,\n",
    "                   restore_best_weights=False, save_loss_history=True, overfit_mode=False, mode='gan')"
   ]
  },
  {
   "cell_type": "code",
   "execution_count": 14,
   "id": "983a0150-e95a-47c0-93ca-906300c377e6",
   "metadata": {},
   "outputs": [],
   "source": [
    "(Path('./models') / 'descriptor_sil').mkdir(exist_ok=True)\n",
    "(Path('./models') / 'descriptor_col').mkdir(exist_ok=True)\n",
    "torch.save(descriptor_sil.state_dict(), Path('./models') / 'descriptor_sil' / 'best.pt')\n",
    "torch.save(descriptor_col.state_dict(), Path('./models') / 'descriptor_col' / 'best.pt')"
   ]
  },
  {
   "cell_type": "markdown",
   "id": "8262d142-cb52-4b06-8fb1-547b5879a941",
   "metadata": {},
   "source": [
    "## Инференс!!"
   ]
  },
  {
   "cell_type": "code",
   "execution_count": 9,
   "id": "0fd36de6-a78e-4a25-86fa-93f1c8ad164b",
   "metadata": {
    "scrolled": true
   },
   "outputs": [
    {
     "data": {
      "text/plain": [
       "MeshVAE(\n",
       "  (encoder): Encoder(\n",
       "    (conv_in): Conv3d(40, 64, kernel_size=(7, 7, 7), stride=(1, 1, 1), padding=(3, 3, 3))\n",
       "    (res_down_block1): ResDown(\n",
       "      (conv1): Conv3d(64, 64, kernel_size=(3, 3, 3), stride=(2, 2, 2), padding=(1, 1, 1))\n",
       "      (bn1): BatchNorm3d(64, eps=0.0001, momentum=0.1, affine=True, track_running_stats=True)\n",
       "      (conv2): Conv3d(64, 128, kernel_size=(3, 3, 3), stride=(1, 1, 1), padding=(1, 1, 1))\n",
       "      (bn2): BatchNorm3d(128, eps=0.0001, momentum=0.1, affine=True, track_running_stats=True)\n",
       "      (conv3): Conv3d(64, 128, kernel_size=(3, 3, 3), stride=(2, 2, 2), padding=(1, 1, 1))\n",
       "      (act_fnc): ELU(alpha=1.0)\n",
       "    )\n",
       "    (res_down_block2): ResDown(\n",
       "      (conv1): Conv3d(128, 128, kernel_size=(3, 3, 3), stride=(2, 2, 2), padding=(1, 1, 1))\n",
       "      (bn1): BatchNorm3d(128, eps=0.0001, momentum=0.1, affine=True, track_running_stats=True)\n",
       "      (conv2): Conv3d(128, 256, kernel_size=(3, 3, 3), stride=(1, 1, 1), padding=(1, 1, 1))\n",
       "      (bn2): BatchNorm3d(256, eps=0.0001, momentum=0.1, affine=True, track_running_stats=True)\n",
       "      (conv3): Conv3d(128, 256, kernel_size=(3, 3, 3), stride=(2, 2, 2), padding=(1, 1, 1))\n",
       "      (act_fnc): ELU(alpha=1.0)\n",
       "    )\n",
       "    (res_down_block3): ResDown(\n",
       "      (conv1): Conv3d(256, 256, kernel_size=(3, 3, 3), stride=(2, 2, 2), padding=(1, 1, 1))\n",
       "      (bn1): BatchNorm3d(256, eps=0.0001, momentum=0.1, affine=True, track_running_stats=True)\n",
       "      (conv2): Conv3d(256, 512, kernel_size=(3, 3, 3), stride=(1, 1, 1), padding=(1, 1, 1))\n",
       "      (bn2): BatchNorm3d(512, eps=0.0001, momentum=0.1, affine=True, track_running_stats=True)\n",
       "      (conv3): Conv3d(256, 512, kernel_size=(3, 3, 3), stride=(2, 2, 2), padding=(1, 1, 1))\n",
       "      (act_fnc): ELU(alpha=1.0)\n",
       "    )\n",
       "    (res_down_block4): ResDown(\n",
       "      (conv1): Conv3d(512, 512, kernel_size=(3, 3, 3), stride=(2, 2, 2), padding=(1, 1, 1))\n",
       "      (bn1): BatchNorm3d(512, eps=0.0001, momentum=0.1, affine=True, track_running_stats=True)\n",
       "      (conv2): Conv3d(512, 1024, kernel_size=(3, 3, 3), stride=(1, 1, 1), padding=(1, 1, 1))\n",
       "      (bn2): BatchNorm3d(1024, eps=0.0001, momentum=0.1, affine=True, track_running_stats=True)\n",
       "      (conv3): Conv3d(512, 1024, kernel_size=(3, 3, 3), stride=(2, 2, 2), padding=(1, 1, 1))\n",
       "      (act_fnc): ELU(alpha=1.0)\n",
       "    )\n",
       "    (act_fnc): ELU(alpha=1.0)\n",
       "  )\n",
       "  (reparametrize): Reparametrize(\n",
       "    (conv_mu): Conv2d(1024, 512, kernel_size=(4, 4), stride=(1, 1))\n",
       "    (conv_log_var): Conv2d(1024, 512, kernel_size=(4, 4), stride=(1, 1))\n",
       "  )\n",
       "  (decoder): Decoder(\n",
       "    (conv_t_up): ConvTranspose3d(512, 1024, kernel_size=(4, 4, 4), stride=(1, 1, 1))\n",
       "    (res_up_block1): ResUp(\n",
       "      (conv1): Conv3d(1024, 512, kernel_size=(3, 3, 3), stride=(1, 1, 1), padding=(1, 1, 1))\n",
       "      (bn1): BatchNorm3d(512, eps=0.0001, momentum=0.1, affine=True, track_running_stats=True)\n",
       "      (conv2): Conv3d(512, 512, kernel_size=(3, 3, 3), stride=(1, 1, 1), padding=(1, 1, 1))\n",
       "      (bn2): BatchNorm3d(512, eps=0.0001, momentum=0.1, affine=True, track_running_stats=True)\n",
       "      (conv3): Conv3d(1024, 512, kernel_size=(3, 3, 3), stride=(1, 1, 1), padding=(1, 1, 1))\n",
       "      (up_nn): Upsample(scale_factor=2.0, mode='nearest')\n",
       "      (act_fnc): ELU(alpha=1.0)\n",
       "    )\n",
       "    (res_up_block2): ResUp(\n",
       "      (conv1): Conv3d(512, 256, kernel_size=(3, 3, 3), stride=(1, 1, 1), padding=(1, 1, 1))\n",
       "      (bn1): BatchNorm3d(256, eps=0.0001, momentum=0.1, affine=True, track_running_stats=True)\n",
       "      (conv2): Conv3d(256, 256, kernel_size=(3, 3, 3), stride=(1, 1, 1), padding=(1, 1, 1))\n",
       "      (bn2): BatchNorm3d(256, eps=0.0001, momentum=0.1, affine=True, track_running_stats=True)\n",
       "      (conv3): Conv3d(512, 256, kernel_size=(3, 3, 3), stride=(1, 1, 1), padding=(1, 1, 1))\n",
       "      (up_nn): Upsample(scale_factor=2.0, mode='nearest')\n",
       "      (act_fnc): ELU(alpha=1.0)\n",
       "    )\n",
       "    (res_up_block3): ResUp(\n",
       "      (conv1): Conv3d(256, 128, kernel_size=(3, 3, 3), stride=(1, 1, 1), padding=(1, 1, 1))\n",
       "      (bn1): BatchNorm3d(128, eps=0.0001, momentum=0.1, affine=True, track_running_stats=True)\n",
       "      (conv2): Conv3d(128, 128, kernel_size=(3, 3, 3), stride=(1, 1, 1), padding=(1, 1, 1))\n",
       "      (bn2): BatchNorm3d(128, eps=0.0001, momentum=0.1, affine=True, track_running_stats=True)\n",
       "      (conv3): Conv3d(256, 128, kernel_size=(3, 3, 3), stride=(1, 1, 1), padding=(1, 1, 1))\n",
       "      (up_nn): Upsample(scale_factor=2.0, mode='nearest')\n",
       "      (act_fnc): ELU(alpha=1.0)\n",
       "    )\n",
       "    (res_up_block4): ResUp(\n",
       "      (conv1): Conv3d(128, 64, kernel_size=(3, 3, 3), stride=(1, 1, 1), padding=(1, 1, 1))\n",
       "      (bn1): BatchNorm3d(64, eps=0.0001, momentum=0.1, affine=True, track_running_stats=True)\n",
       "      (conv2): Conv3d(64, 64, kernel_size=(3, 3, 3), stride=(1, 1, 1), padding=(1, 1, 1))\n",
       "      (bn2): BatchNorm3d(64, eps=0.0001, momentum=0.1, affine=True, track_running_stats=True)\n",
       "      (conv3): Conv3d(128, 64, kernel_size=(3, 3, 3), stride=(1, 1, 1), padding=(1, 1, 1))\n",
       "      (up_nn): Upsample(scale_factor=2.0, mode='nearest')\n",
       "      (act_fnc): ELU(alpha=1.0)\n",
       "    )\n",
       "    (conv_out): Conv3d(64, 2, kernel_size=(3, 3, 3), stride=(1, 1, 1), padding=(1, 1, 1))\n",
       "    (act_fnc): ELU(alpha=1.0)\n",
       "  )\n",
       ")"
      ]
     },
     "execution_count": 9,
     "metadata": {},
     "output_type": "execute_result"
    }
   ],
   "source": [
    "# model = MeshVAE().to(device)\n",
    "model.load_state_dict(torch.load(Path('./models') / 'MeshVAE' / '15' / 'last.pt'))\n",
    "model.eval()"
   ]
  },
  {
   "cell_type": "code",
   "execution_count": 13,
   "id": "c50e6789-087b-4732-89a5-0c085705d4db",
   "metadata": {},
   "outputs": [],
   "source": [
    "def get_model(dataset, dataset_model_number):\n",
    "    get_renders = torch.stack((dataset[dataset_model_number], dataset[dataset_model_number]), 0)\n",
    "    # get_renders = dataset[dataset_model_number].unsqueeze(0)\n",
    "    print(get_renders.shape)\n",
    "\n",
    "    ren_imgs, rend_sils = None, None\n",
    "    target_imgs, target_sils = None, None\n",
    "    with torch.inference_mode():\n",
    "        # get model\n",
    "        input_renders = get_renders\n",
    "        target_renders, target_silhouttes = input_renders.to(device).split([1, 1], dim = 1)\n",
    "        target_renders, target_silhouttes = target_renders.squeeze().unsqueeze(2), target_silhouttes.squeeze().unsqueeze(2)\n",
    "        target_imgs, target_sils = target_renders.cpu(), target_silhouttes.cpu()\n",
    "        print(target_renders.shape)\n",
    "        mu, logvar, output_model = model(target_renders)\n",
    "    \n",
    "        num_views, azimuth_range = 40, 180.0\n",
    "        elev = torch.linspace(0, 0, num_views)  # keep constant\n",
    "        azim = torch.linspace(-azimuth_range, azimuth_range, num_views) + 180.0\n",
    "        R, T = look_at_view_transform(dist=2.7, elev=elev, azim=azim)\n",
    "        target_cameras = FoVPerspectiveCameras(device=device, R=R, T=T)\n",
    "        target_cameras = target_cameras.to(device)\n",
    "    \n",
    "        rendered_images_silhouettes = model.get_renders(output_model, target_cameras)\n",
    "        rendered_images, rendered_silhouttes = rendered_images_silhouettes.split([1, 1], dim = -1)\n",
    "        ren_imgs, rend_sils = rendered_images.permute(0, 1, 4, 2, 3), rendered_silhouttes.permute(0, 1, 4, 2, 3)\n",
    "    \n",
    "        del input_renders\n",
    "        del rendered_images_silhouettes\n",
    "        del rendered_images\n",
    "        del rendered_silhouttes\n",
    "        del target_cameras\n",
    "        torch.cuda.empty_cache()\n",
    "    \n",
    "    ren_imgs, rend_sils = ren_imgs.squeeze().detach().cpu()[0], rend_sils.squeeze().detach().cpu()[0]\n",
    "    # print(ren_imgs.shape, rend_sils.shape)\n",
    "    return ren_imgs, rend_sils, target_imgs, target_sils, mu.detach().cpu()"
   ]
  },
  {
   "cell_type": "code",
   "execution_count": 34,
   "id": "be6e1156-f278-46f6-bd9a-14898fb76205",
   "metadata": {},
   "outputs": [],
   "source": [
    "data_per_class = pd.read_csv('./modelnet_renders_metadata.csv')\n",
    "data_per_class = data_per_class.groupby('class')"
   ]
  },
  {
   "cell_type": "code",
   "execution_count": 14,
   "id": "489eba03-07e7-4f8f-af89-2c9723c4073e",
   "metadata": {},
   "outputs": [
    {
     "name": "stdout",
     "output_type": "stream",
     "text": [
      "torch.Size([2, 2, 1, 40, 64, 64])\n",
      "torch.Size([2, 40, 1, 64, 64])\n"
     ]
    }
   ],
   "source": [
    "dataset_model_number = 2500\n",
    "datasets = [dataset_train, dataset_test]\n",
    "dataset = datasets[0]\n",
    "\n",
    "ren_imgs, rend_sils, target_imgs, target_sils, mu = get_model(dataset=dataset, dataset_model_number=dataset_model_number)"
   ]
  },
  {
   "cell_type": "code",
   "execution_count": 16,
   "id": "e3a98b76-3200-45f2-a1bb-a71cbb6b0d7e",
   "metadata": {},
   "outputs": [
    {
     "name": "stderr",
     "output_type": "stream",
     "text": [
      "100%|██████████| 3990/3990 [13:14<00:00,  5.02it/s]\n"
     ]
    }
   ],
   "source": [
    "dataset = datasets[0]\n",
    "prev_latent = None\n",
    "mu_mean = torch.zeros(3990, 512)\n",
    "cum_diff = torch.zeros(512).float()\n",
    "for i in tqdm(range(len(dataset))):\n",
    "    _, _, _, _, mu = get_model(dataset=dataset, dataset_model_number=i)\n",
    "    latent = mu[0].squeeze()\n",
    "    if prev_latent is None:\n",
    "        prev_latent = latent\n",
    "    else:\n",
    "        cum_diff += (latent - prev_latent).abs()\n",
    "        prev_latent = latent\n",
    "    mu_mean[i] = latent"
   ]
  },
  {
   "cell_type": "code",
   "execution_count": 15,
   "id": "a2c2df9a-1f97-43ac-9998-d509f9e82a9b",
   "metadata": {},
   "outputs": [
    {
     "data": {
      "text/plain": [
       "tensor([ 86, 469, 186, 474, 210, 408, 292, 143, 305,  24])"
      ]
     },
     "execution_count": 15,
     "metadata": {},
     "output_type": "execute_result"
    }
   ],
   "source": [
    "all_dataset = torch.topk(cum_diff, 10).indices\n",
    "all_dataset"
   ]
  },
  {
   "cell_type": "code",
   "execution_count": 18,
   "id": "264a9573-6e9e-4c39-9d23-e9d338871d65",
   "metadata": {},
   "outputs": [
    {
     "data": {
      "text/plain": [
       "tensor([ 86, 469, 186, 474, 210, 408, 305, 292, 143,  24])"
      ]
     },
     "execution_count": 18,
     "metadata": {},
     "output_type": "execute_result"
    }
   ],
   "source": [
    "all_dataset2 = torch.topk(cum_diff, 10).indices\n",
    "all_dataset2"
   ]
  },
  {
   "cell_type": "code",
   "execution_count": 21,
   "id": "770a2141-473c-435e-9e6b-447bfa1daaf9",
   "metadata": {},
   "outputs": [
    {
     "data": {
      "text/plain": [
       "torch.Size([512])"
      ]
     },
     "execution_count": 21,
     "metadata": {},
     "output_type": "execute_result"
    }
   ],
   "source": [
    "mu_mean.mean(axis=0).shape"
   ]
  },
  {
   "cell_type": "code",
   "execution_count": 22,
   "id": "437d4268-58ac-42c6-95c9-338a3bc8099b",
   "metadata": {},
   "outputs": [],
   "source": [
    "torch.save(mu_mean.mean(axis=0), 'latent_mean.pt')"
   ]
  },
  {
   "cell_type": "code",
   "execution_count": 15,
   "id": "c390201d-4d31-480c-821c-929372f7e10e",
   "metadata": {},
   "outputs": [
    {
     "data": {
      "text/plain": [
       "<matplotlib.image.AxesImage at 0x7ffa2c434820>"
      ]
     },
     "execution_count": 15,
     "metadata": {},
     "output_type": "execute_result"
    },
    {
     "data": {
      "image/png": "[encoded data removed]",
      "text/plain": [
       "<Figure size 640x480 with 1 Axes>"
      ]
     },
     "metadata": {},
     "output_type": "display_data"
    }
   ],
   "source": [
    "camera_num = 32\n",
    "targ_cam = target_imgs[0][camera_num].unsqueeze(0).squeeze()\n",
    "plt.imshow(torch.hstack((ren_imgs[camera_num] / torch.max(ren_imgs[camera_num]), targ_cam / torch.max(targ_cam))), cmap='gray')"
   ]
  },
  {
   "cell_type": "code",
   "execution_count": 16,
   "id": "f354f8e2-3636-4d05-a183-5e7e1562dddc",
   "metadata": {},
   "outputs": [],
   "source": [
    "# import imageio\n",
    "# from skimage import img_as_ubyte\n",
    "from PIL import Image\n",
    "from torchvision.transforms.functional import to_pil_image\n",
    "\n",
    "imgs = list()\n",
    "save_path = Path('./recreated_models')\n",
    "save_path.mkdir(exist_ok=True)\n",
    "for camera_num, img in enumerate(ren_imgs):\n",
    "    targ_cam = target_imgs[0][camera_num].unsqueeze(0).squeeze()\n",
    "    imgs.append(to_pil_image(torch.hstack((ren_imgs[camera_num] / torch.max(ren_imgs[camera_num]), targ_cam)), mode='L'))\n",
    "    \n",
    "# imageio.mimsave('model_recreated16.gif', imgs)\n",
    "imgs[0].save(save_path / \"GAN_not_last_table.gif\", save_all=True, append_images=imgs[1:], duration=100, loop=0)"
   ]
  },
  {
   "cell_type": "code",
   "execution_count": null,
   "id": "f8ee0b08-34ef-4a3b-a56a-1e7a41040d71",
   "metadata": {},
   "outputs": [],
   "source": [
    "dataset"
   ]
  }
 ],
 "metadata": {
  "kernelspec": {
   "display_name": "PyTorch3D",
   "language": "python",
   "name": "pytorch3d"
  },
  "language_info": {
   "codemirror_mode": {
    "name": "ipython",
    "version": 3
   },
   "file_extension": ".py",
   "mimetype": "text/x-python",
   "name": "python",
   "nbconvert_exporter": "python",
   "pygments_lexer": "ipython3",
   "version": "3.9.21"
  }
 },
 "nbformat": 4,
 "nbformat_minor": 5
}
