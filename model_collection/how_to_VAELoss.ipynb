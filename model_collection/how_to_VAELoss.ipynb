{
 "cells": [
  {
   "cell_type": "code",
   "execution_count": 1,
   "id": "1bec0a2b-9b7c-4aa6-be1a-a4db5b3da3c2",
   "metadata": {},
   "outputs": [],
   "source": [
    "import torch\n",
    "import torch.nn as nn"
   ]
  },
  {
   "cell_type": "code",
   "execution_count": 51,
   "id": "cde85b90-9650-4c26-9836-7688626e5639",
   "metadata": {},
   "outputs": [],
   "source": [
    "class VAELoss(nn.Module):\n",
    "    def __init__(self, loss_fn):\n",
    "        super(VAELoss, self).__init__()\n",
    "        self.criterion = loss_fn\n",
    "\n",
    "    # question: how is the loss function using the mu and variance?\n",
    "    def forward(self, mu, log_var, render_imgs, render_sils, target_imgs, target_sils):\n",
    "        \"\"\"gives the batch normalized Variational Error.\"\"\"\n",
    "\n",
    "        batch_size = x.shape[0]\n",
    "        \n",
    "        sil_err = self.criterion(render_sils, target_sils).abs().mean()\n",
    "        color_err = self.criterion(render_imgs, target_imgs).abs().mean()\n",
    "        \n",
    "        # 0.5 * sum(1 + log(sigma^2) - mu^2 - sigma^2)\n",
    "        KLD_element = mu.pow(2).add_(log_var.exp()).mul_(-1).add_(1).add_(log_var)\n",
    "        KL_divergence = torch.sum(KLD_element).mul_(-0.5)\n",
    "\n",
    "        loss = color_err + sil_err + KL_divergence\n",
    "        \n",
    "        return (loss / batch_size).mean()"
   ]
  },
  {
   "cell_type": "code",
   "execution_count": 52,
   "id": "8801a10f-7276-4e07-a403-a099d74c1843",
   "metadata": {},
   "outputs": [],
   "source": [
    "def huber_loss(x, y, scaling=0.1):\n",
    "    diff_sq = (x-y) ** 2\n",
    "    loss = ((1 + diff_sq / (scaling ** 2)).clamp(1e-4).sqrt() - 1) * float(scaling)\n",
    "    return loss"
   ]
  },
  {
   "cell_type": "code",
   "execution_count": 53,
   "id": "ebc3bfbc-7236-40f8-9d6a-60389347e01b",
   "metadata": {},
   "outputs": [],
   "source": [
    "render_imgs, render_sils = torch.randn(4, 16, 1, 144, 144, requires_grad=True), torch.randn(4, 16, 1, 144, 144, requires_grad=True)\n",
    "target_imgs, target_sils = torch.randn(4, 16, 1, 144, 144), torch.randn(4, 16, 1, 144, 144)\n",
    "\n",
    "mu = torch.randn(4, 2048, 1, 1, 8, requires_grad=True)\n",
    "logvar = torch.randn(4, 2048, 1, 1, 8, requires_grad=True)"
   ]
  },
  {
   "cell_type": "code",
   "execution_count": 54,
   "id": "dfae84e8-fdd2-405d-b704-4f8a7975c254",
   "metadata": {},
   "outputs": [],
   "source": [
    "los = VAELoss(loss_fn=huber_loss)"
   ]
  },
  {
   "cell_type": "code",
   "execution_count": 56,
   "id": "395683fa-a1ef-477b-9b66-5fcea6638493",
   "metadata": {},
   "outputs": [
    {
     "data": {
      "text/plain": [
       "1620375.125"
      ]
     },
     "execution_count": 56,
     "metadata": {},
     "output_type": "execute_result"
    }
   ],
   "source": [
    "loss = los(mu, logvar, render_imgs, render_sils, target_imgs, target_sils)\n",
    "loss.mean().item()"
   ]
  },
  {
   "cell_type": "code",
   "execution_count": null,
   "id": "35d06983-74ce-4c8e-8ebd-c032fc6a032b",
   "metadata": {},
   "outputs": [],
   "source": []
  }
 ],
 "metadata": {
  "kernelspec": {
   "display_name": "PyTorch3D",
   "language": "python",
   "name": "pytorch3d"
  },
  "language_info": {
   "codemirror_mode": {
    "name": "ipython",
    "version": 3
   },
   "file_extension": ".py",
   "mimetype": "text/x-python",
   "name": "python",
   "nbconvert_exporter": "python",
   "pygments_lexer": "ipython3",
   "version": "3.9.21"
  }
 },
 "nbformat": 4,
 "nbformat_minor": 5
}
