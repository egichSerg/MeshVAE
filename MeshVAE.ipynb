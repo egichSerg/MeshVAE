{
 "cells": [
  {
   "cell_type": "markdown",
   "id": "e432774b-6485-4086-83cf-02764af43311",
   "metadata": {},
   "source": [
    "# TODO:\n",
    "- Обновить на гитхабе этот ноутбук когда доучится"
   ]
  },
  {
   "cell_type": "markdown",
   "id": "07f3bee0-8646-4579-b5ac-aebf5e7af5b4",
   "metadata": {},
   "source": [
    "# Обучение MeshVAE!\n",
    "## Импорт библиотек"
   ]
  },
  {
   "cell_type": "code",
   "execution_count": 1,
   "id": "f3e7e920-742c-4641-9f6a-ef85c44c3a6f",
   "metadata": {},
   "outputs": [],
   "source": [
    "import torch\n",
    "import torch.nn as nn\n",
    "\n",
    "import os\n",
    "\n",
    "import pandas as pd\n",
    "import matplotlib.pyplot as plt\n",
    "\n",
    "import torchvision.transforms as transforms\n",
    "\n",
    "\n",
    "from torch.utils.checkpoint import checkpoint_sequential\n",
    "from torchvision.transforms import Resize\n",
    "from pathlib import Path\n",
    "\n",
    "from pytorch3d.renderer import look_at_view_transform\n",
    "from pytorch3d.renderer import (\n",
    "FoVPerspectiveCameras, VolumeRenderer,\n",
    "NDCGridRaysampler, EmissionAbsorptionRaymarcher\n",
    ")\n",
    "\n",
    "from modelnet import ModelNetRendersNoLabels\n",
    "\n",
    "from model_collection.MeshVAE import MeshVAE\n",
    "from model_collection.utils import huber_loss, max_VRAM_optim_fit\n",
    "from model_collection.VAE_loss.VaeLoss import VAELoss\n",
    "\n",
    "os.environ[\"PYTORCH_CUDA_ALLOC_CONF\"] = \"expandable_segments:True\""
   ]
  },
  {
   "cell_type": "markdown",
   "id": "ad92375b-738a-4b92-a7da-3d36d6537de9",
   "metadata": {},
   "source": [
    "## Set current working directory"
   ]
  },
  {
   "cell_type": "code",
   "execution_count": null,
   "id": "d4c8e2f5-5f39-40e2-8399-921ca30598ce",
   "metadata": {},
   "outputs": [],
   "source": [
    "root_dir = 'path/to/your/directory'\n",
    "root_dir = Path(root_dir)"
   ]
  },
  {
   "cell_type": "markdown",
   "id": "bc516114-11a9-468b-a670-5d97c8e207a3",
   "metadata": {},
   "source": [
    "## Определение девайса, датасета и даталоадера"
   ]
  },
  {
   "cell_type": "code",
   "execution_count": 2,
   "id": "c3725d17-087c-408a-91ae-d7a18d6f3242",
   "metadata": {},
   "outputs": [
    {
     "name": "stdout",
     "output_type": "stream",
     "text": [
      "Using cuda\n",
      "Test set has 10 classes\n",
      "Train set has 10 classes\n"
     ]
    }
   ],
   "source": [
    "USE_CUDA = True\n",
    "device = 'cuda' if torch.cuda.is_available() and USE_CUDA else 'cpu'\n",
    "print('Using', device)\n",
    "\n",
    "dataset_dir = root_dir / 'dataset'\n",
    "data_sheet = pd.read_csv(dataset_dir / 'modelnet_renders_metadata.csv')\n",
    "data_train = data_sheet[data_sheet['split'] == ' train']\n",
    "data_test = data_sheet[data_sheet['split'] == ' test']\n",
    "\n",
    "image_size = 64\n",
    "transform = transforms.Compose([transforms.Resize(image_size),\n",
    "                                transforms.CenterCrop(image_size),\n",
    "                                transforms.RandomHorizontalFlip(0.5),\n",
    "                                transforms.Normalize(0.5, 0.5)])\n",
    "\n",
    "dataset_train = ModelNetRendersNoLabels(dataset_root_dir=Path(dataset_dir / 'modelNet_renders'),data_sheet=data_train, transform=transform, device=device)\n",
    "dataset_test = ModelNetRendersNoLabels(dataset_root_dir=Path(dataset_dir / 'modelNet_renders'),data_sheet=data_test, transform=transform, device=device)\n",
    "\n",
    "print(f\"Test set has {len(data_test['class'].unique())} classes\\nTrain set has {len(data_train['class'].unique())} classes\")\n",
    "\n",
    "BATCH_SIZE = 4\n",
    "\n",
    "train_dl = torch.utils.data.DataLoader(dataset = dataset_train,\n",
    "                                                      batch_size = BATCH_SIZE,\n",
    "                                                      num_workers = 0,\n",
    "                                                      shuffle = True)\n",
    "\n",
    "test_dl = torch.utils.data.DataLoader(dataset = dataset_test,\n",
    "                                                      batch_size = BATCH_SIZE,\n",
    "                                                      num_workers = 0,\n",
    "                                                      shuffle = False)"
   ]
  },
  {
   "cell_type": "markdown",
   "id": "3ee9c86c-7e5f-4745-b5e8-49e7c8009127",
   "metadata": {},
   "source": [
    "## Определение модели, оптимизатора и метода learning rate annealing"
   ]
  },
  {
   "cell_type": "code",
   "execution_count": 3,
   "id": "3ba6919f-6c96-421e-9cb8-142a2101e50c",
   "metadata": {},
   "outputs": [],
   "source": [
    "model = MeshVAE().to(device)\n",
    "criterion = VAELoss(device=device, clamp=True, clamp_threshold=10000., loss_fn=huber_loss, KLD_coef = 1., reconstruction_coef = 1.)\n",
    "optimizer = torch.optim.Adam(model.parameters(), lr=0.00001)\n",
    "scheduler = None # torch.optim.lr_scheduler.CosineAnnealingWarmRestarts(optimizer=optimizer, T_0=60, T_mult=2)"
   ]
  },
  {
   "cell_type": "markdown",
   "id": "856f9bf9-79e3-4692-996d-52743d4c777d",
   "metadata": {},
   "source": [
    "## Обучение!"
   ]
  },
  {
   "cell_type": "code",
   "execution_count": 4,
   "id": "baf89256-b3fc-466a-ae33-4255ea34443f",
   "metadata": {
    "scrolled": true
   },
   "outputs": [
    {
     "name": "stdout",
     "output_type": "stream",
     "text": [
      "==========Epoch 1==========\n",
      "Training...\n"
     ]
    },
    {
     "name": "stderr",
     "output_type": "stream",
     "text": [
      "/home/student/miniforge3/envs/pytorch3d/lib/python3.9/site-packages/torch/utils/checkpoint.py:553: UserWarning: torch.utils.checkpoint.checkpoint_sequential: the use_reentrant parameter should be passed explicitly. In version 2.5 we will raise an exception if use_reentrant is not passed. use_reentrant=False is recommended, but if you need to preserve the current default behavior, you can pass use_reentrant=True. Refer to docs for more details on the differences between the two variants.\n",
      "  warnings.warn(\n",
      "/home/student/miniforge3/envs/pytorch3d/lib/python3.9/site-packages/torch/utils/checkpoint.py:87: UserWarning: None of the inputs have requires_grad=True. Gradients will be None\n",
      "  warnings.warn(\n",
      "/home/student/miniforge3/envs/pytorch3d/lib/python3.9/site-packages/pytorch3d/renderer/implicit/raymarching.py:188: UserWarning: One or more elements of rays_densities are outside of validrange (0.0, 1.0)\n",
      "  warnings.warn(\n",
      "100%|██████████| 998/998 [22:41<00:00,  1.36s/it]\n"
     ]
    },
    {
     "name": "stdout",
     "output_type": "stream",
     "text": [
      "Validating...\n"
     ]
    },
    {
     "name": "stderr",
     "output_type": "stream",
     "text": [
      "100%|██████████| 227/227 [01:38<00:00,  2.30it/s]\n"
     ]
    },
    {
     "name": "stdout",
     "output_type": "stream",
     "text": [
      "Train loss: 4.80 | Test loss: 4.13\n",
      "Saved weights to models/MeshVAE/10/best.pt\n",
      "==========Epoch 2==========\n",
      "Training...\n"
     ]
    },
    {
     "name": "stderr",
     "output_type": "stream",
     "text": [
      "100%|██████████| 998/998 [23:32<00:00,  1.41s/it]\n"
     ]
    },
    {
     "name": "stdout",
     "output_type": "stream",
     "text": [
      "Validating...\n"
     ]
    },
    {
     "name": "stderr",
     "output_type": "stream",
     "text": [
      "100%|██████████| 227/227 [01:38<00:00,  2.29it/s]\n"
     ]
    },
    {
     "name": "stdout",
     "output_type": "stream",
     "text": [
      "Train loss: 3.94 | Test loss: 3.89\n",
      "Saved weights to models/MeshVAE/10/best.pt\n",
      "==========Epoch 3==========\n",
      "Training...\n"
     ]
    },
    {
     "name": "stderr",
     "output_type": "stream",
     "text": [
      "100%|██████████| 998/998 [23:40<00:00,  1.42s/it]\n"
     ]
    },
    {
     "name": "stdout",
     "output_type": "stream",
     "text": [
      "Validating...\n"
     ]
    },
    {
     "name": "stderr",
     "output_type": "stream",
     "text": [
      "100%|██████████| 227/227 [01:32<00:00,  2.45it/s]\n"
     ]
    },
    {
     "name": "stdout",
     "output_type": "stream",
     "text": [
      "Train loss: 3.76 | Test loss: 3.75\n",
      "Saved weights to models/MeshVAE/10/best.pt\n",
      "==========Epoch 4==========\n",
      "Training...\n"
     ]
    },
    {
     "name": "stderr",
     "output_type": "stream",
     "text": [
      "100%|██████████| 998/998 [23:36<00:00,  1.42s/it]\n"
     ]
    },
    {
     "name": "stdout",
     "output_type": "stream",
     "text": [
      "Validating...\n"
     ]
    },
    {
     "name": "stderr",
     "output_type": "stream",
     "text": [
      "100%|██████████| 227/227 [01:33<00:00,  2.43it/s]\n"
     ]
    },
    {
     "name": "stdout",
     "output_type": "stream",
     "text": [
      "Train loss: 3.66 | Test loss: 3.65\n",
      "Saved weights to models/MeshVAE/10/best.pt\n",
      "==========Epoch 5==========\n",
      "Training...\n"
     ]
    },
    {
     "name": "stderr",
     "output_type": "stream",
     "text": [
      "100%|██████████| 998/998 [23:38<00:00,  1.42s/it]\n"
     ]
    },
    {
     "name": "stdout",
     "output_type": "stream",
     "text": [
      "Validating...\n"
     ]
    },
    {
     "name": "stderr",
     "output_type": "stream",
     "text": [
      "100%|██████████| 227/227 [01:33<00:00,  2.44it/s]\n"
     ]
    },
    {
     "name": "stdout",
     "output_type": "stream",
     "text": [
      "Train loss: 3.58 | Test loss: 3.59\n",
      "Saved weights to models/MeshVAE/10/best.pt\n",
      "==========Epoch 6==========\n",
      "Training...\n"
     ]
    },
    {
     "name": "stderr",
     "output_type": "stream",
     "text": [
      "100%|██████████| 998/998 [23:35<00:00,  1.42s/it]\n"
     ]
    },
    {
     "name": "stdout",
     "output_type": "stream",
     "text": [
      "Validating...\n"
     ]
    },
    {
     "name": "stderr",
     "output_type": "stream",
     "text": [
      "100%|██████████| 227/227 [01:33<00:00,  2.44it/s]\n"
     ]
    },
    {
     "name": "stdout",
     "output_type": "stream",
     "text": [
      "Train loss: 3.50 | Test loss: 3.43\n",
      "Saved weights to models/MeshVAE/10/best.pt\n",
      "==========Epoch 7==========\n",
      "Training...\n"
     ]
    },
    {
     "name": "stderr",
     "output_type": "stream",
     "text": [
      "100%|██████████| 998/998 [23:40<00:00,  1.42s/it]\n"
     ]
    },
    {
     "name": "stdout",
     "output_type": "stream",
     "text": [
      "Validating...\n"
     ]
    },
    {
     "name": "stderr",
     "output_type": "stream",
     "text": [
      "100%|██████████| 227/227 [01:32<00:00,  2.46it/s]\n"
     ]
    },
    {
     "name": "stdout",
     "output_type": "stream",
     "text": [
      "Train loss: 3.36 | Test loss: 3.30\n",
      "Saved weights to models/MeshVAE/10/best.pt\n",
      "==========Epoch 8==========\n",
      "Training...\n"
     ]
    },
    {
     "name": "stderr",
     "output_type": "stream",
     "text": [
      "100%|██████████| 998/998 [23:40<00:00,  1.42s/it]\n"
     ]
    },
    {
     "name": "stdout",
     "output_type": "stream",
     "text": [
      "Validating...\n"
     ]
    },
    {
     "name": "stderr",
     "output_type": "stream",
     "text": [
      "100%|██████████| 227/227 [01:32<00:00,  2.46it/s]\n"
     ]
    },
    {
     "name": "stdout",
     "output_type": "stream",
     "text": [
      "Train loss: 3.08 | Test loss: 2.95\n",
      "Saved weights to models/MeshVAE/10/best.pt\n",
      "==========Epoch 9==========\n",
      "Training...\n"
     ]
    },
    {
     "name": "stderr",
     "output_type": "stream",
     "text": [
      "100%|██████████| 998/998 [23:39<00:00,  1.42s/it]\n"
     ]
    },
    {
     "name": "stdout",
     "output_type": "stream",
     "text": [
      "Validating...\n"
     ]
    },
    {
     "name": "stderr",
     "output_type": "stream",
     "text": [
      "100%|██████████| 227/227 [01:33<00:00,  2.43it/s]\n"
     ]
    },
    {
     "name": "stdout",
     "output_type": "stream",
     "text": [
      "Train loss: 2.87 | Test loss: 2.76\n",
      "Saved weights to models/MeshVAE/10/best.pt\n",
      "==========Epoch 10==========\n",
      "Training...\n"
     ]
    },
    {
     "name": "stderr",
     "output_type": "stream",
     "text": [
      "100%|██████████| 998/998 [23:39<00:00,  1.42s/it]\n"
     ]
    },
    {
     "name": "stdout",
     "output_type": "stream",
     "text": [
      "Validating...\n"
     ]
    },
    {
     "name": "stderr",
     "output_type": "stream",
     "text": [
      "100%|██████████| 227/227 [01:32<00:00,  2.45it/s]\n"
     ]
    },
    {
     "name": "stdout",
     "output_type": "stream",
     "text": [
      "Train loss: 2.74 | Test loss: 2.84\n",
      "Saved weights to models/MeshVAE/10/last.pt\n",
      "==========Epoch 11==========\n",
      "Training...\n"
     ]
    },
    {
     "name": "stderr",
     "output_type": "stream",
     "text": [
      "100%|██████████| 998/998 [23:40<00:00,  1.42s/it]\n"
     ]
    },
    {
     "name": "stdout",
     "output_type": "stream",
     "text": [
      "Validating...\n"
     ]
    },
    {
     "name": "stderr",
     "output_type": "stream",
     "text": [
      "100%|██████████| 227/227 [01:33<00:00,  2.44it/s]\n"
     ]
    },
    {
     "name": "stdout",
     "output_type": "stream",
     "text": [
      "Train loss: 2.65 | Test loss: 2.74\n",
      "Saved weights to models/MeshVAE/10/best.pt\n",
      "==========Epoch 12==========\n",
      "Training...\n"
     ]
    },
    {
     "name": "stderr",
     "output_type": "stream",
     "text": [
      "100%|██████████| 998/998 [23:46<00:00,  1.43s/it]\n"
     ]
    },
    {
     "name": "stdout",
     "output_type": "stream",
     "text": [
      "Validating...\n"
     ]
    },
    {
     "name": "stderr",
     "output_type": "stream",
     "text": [
      "100%|██████████| 227/227 [01:33<00:00,  2.44it/s]\n"
     ]
    },
    {
     "name": "stdout",
     "output_type": "stream",
     "text": [
      "Train loss: 2.58 | Test loss: 2.61\n",
      "Saved weights to models/MeshVAE/10/best.pt\n",
      "==========Epoch 13==========\n",
      "Training...\n"
     ]
    },
    {
     "name": "stderr",
     "output_type": "stream",
     "text": [
      "100%|██████████| 998/998 [26:17<00:00,  1.58s/it]\n"
     ]
    },
    {
     "name": "stdout",
     "output_type": "stream",
     "text": [
      "Validating...\n"
     ]
    },
    {
     "name": "stderr",
     "output_type": "stream",
     "text": [
      "100%|██████████| 227/227 [01:33<00:00,  2.42it/s]\n"
     ]
    },
    {
     "name": "stdout",
     "output_type": "stream",
     "text": [
      "Train loss: 2.51 | Test loss: 2.57\n",
      "Saved weights to models/MeshVAE/10/best.pt\n",
      "==========Epoch 14==========\n",
      "Training...\n"
     ]
    },
    {
     "name": "stderr",
     "output_type": "stream",
     "text": [
      "100%|██████████| 998/998 [23:48<00:00,  1.43s/it]\n"
     ]
    },
    {
     "name": "stdout",
     "output_type": "stream",
     "text": [
      "Validating...\n"
     ]
    },
    {
     "name": "stderr",
     "output_type": "stream",
     "text": [
      "100%|██████████| 227/227 [01:34<00:00,  2.41it/s]\n"
     ]
    },
    {
     "name": "stdout",
     "output_type": "stream",
     "text": [
      "Train loss: 2.46 | Test loss: 2.51\n",
      "Saved weights to models/MeshVAE/10/best.pt\n",
      "==========Epoch 15==========\n",
      "Training...\n"
     ]
    },
    {
     "name": "stderr",
     "output_type": "stream",
     "text": [
      "100%|██████████| 998/998 [23:48<00:00,  1.43s/it]\n"
     ]
    },
    {
     "name": "stdout",
     "output_type": "stream",
     "text": [
      "Validating...\n"
     ]
    },
    {
     "name": "stderr",
     "output_type": "stream",
     "text": [
      "100%|██████████| 227/227 [01:34<00:00,  2.41it/s]\n"
     ]
    },
    {
     "name": "stdout",
     "output_type": "stream",
     "text": [
      "Train loss: 2.41 | Test loss: 2.50\n",
      "Saved weights to models/MeshVAE/10/best.pt\n",
      "==========Epoch 16==========\n",
      "Training...\n"
     ]
    },
    {
     "name": "stderr",
     "output_type": "stream",
     "text": [
      "100%|██████████| 998/998 [23:51<00:00,  1.43s/it]\n"
     ]
    },
    {
     "name": "stdout",
     "output_type": "stream",
     "text": [
      "Validating...\n"
     ]
    },
    {
     "name": "stderr",
     "output_type": "stream",
     "text": [
      "100%|██████████| 227/227 [01:34<00:00,  2.41it/s]\n"
     ]
    },
    {
     "name": "stdout",
     "output_type": "stream",
     "text": [
      "Train loss: 2.39 | Test loss: 2.45\n",
      "Saved weights to models/MeshVAE/10/best.pt\n",
      "==========Epoch 17==========\n",
      "Training...\n"
     ]
    },
    {
     "name": "stderr",
     "output_type": "stream",
     "text": [
      "100%|██████████| 998/998 [23:52<00:00,  1.44s/it]\n"
     ]
    },
    {
     "name": "stdout",
     "output_type": "stream",
     "text": [
      "Validating...\n"
     ]
    },
    {
     "name": "stderr",
     "output_type": "stream",
     "text": [
      "100%|██████████| 227/227 [01:34<00:00,  2.40it/s]\n"
     ]
    },
    {
     "name": "stdout",
     "output_type": "stream",
     "text": [
      "Train loss: 2.36 | Test loss: 2.48\n",
      "Saved weights to models/MeshVAE/10/last.pt\n",
      "==========Epoch 18==========\n",
      "Training...\n"
     ]
    },
    {
     "name": "stderr",
     "output_type": "stream",
     "text": [
      "100%|██████████| 998/998 [23:54<00:00,  1.44s/it]\n"
     ]
    },
    {
     "name": "stdout",
     "output_type": "stream",
     "text": [
      "Validating...\n"
     ]
    },
    {
     "name": "stderr",
     "output_type": "stream",
     "text": [
      "100%|██████████| 227/227 [01:34<00:00,  2.40it/s]\n"
     ]
    },
    {
     "name": "stdout",
     "output_type": "stream",
     "text": [
      "Train loss: 2.36 | Test loss: 2.48\n",
      "Saved weights to models/MeshVAE/10/last.pt\n",
      "==========Epoch 19==========\n",
      "Training...\n"
     ]
    },
    {
     "name": "stderr",
     "output_type": "stream",
     "text": [
      "100%|██████████| 998/998 [23:47<00:00,  1.43s/it]\n"
     ]
    },
    {
     "name": "stdout",
     "output_type": "stream",
     "text": [
      "Validating...\n"
     ]
    },
    {
     "name": "stderr",
     "output_type": "stream",
     "text": [
      "100%|██████████| 227/227 [01:34<00:00,  2.41it/s]\n"
     ]
    },
    {
     "name": "stdout",
     "output_type": "stream",
     "text": [
      "Train loss: 2.30 | Test loss: 2.42\n",
      "Saved weights to models/MeshVAE/10/best.pt\n",
      "==========Epoch 20==========\n",
      "Training...\n"
     ]
    },
    {
     "name": "stderr",
     "output_type": "stream",
     "text": [
      "100%|██████████| 998/998 [23:50<00:00,  1.43s/it]\n"
     ]
    },
    {
     "name": "stdout",
     "output_type": "stream",
     "text": [
      "Validating...\n"
     ]
    },
    {
     "name": "stderr",
     "output_type": "stream",
     "text": [
      "100%|██████████| 227/227 [01:34<00:00,  2.41it/s]\n"
     ]
    },
    {
     "name": "stdout",
     "output_type": "stream",
     "text": [
      "Train loss: 2.30 | Test loss: 2.44\n",
      "Saved weights to models/MeshVAE/10/last.pt\n",
      "==========Epoch 21==========\n",
      "Training...\n"
     ]
    },
    {
     "name": "stderr",
     "output_type": "stream",
     "text": [
      "100%|██████████| 998/998 [24:11<00:00,  1.45s/it]\n"
     ]
    },
    {
     "name": "stdout",
     "output_type": "stream",
     "text": [
      "Validating...\n"
     ]
    },
    {
     "name": "stderr",
     "output_type": "stream",
     "text": [
      "100%|██████████| 227/227 [01:41<00:00,  2.24it/s]\n"
     ]
    },
    {
     "name": "stdout",
     "output_type": "stream",
     "text": [
      "Train loss: 2.28 | Test loss: 2.40\n",
      "Saved weights to models/MeshVAE/10/best.pt\n",
      "==========Epoch 22==========\n",
      "Training...\n"
     ]
    },
    {
     "name": "stderr",
     "output_type": "stream",
     "text": [
      "100%|██████████| 998/998 [24:37<00:00,  1.48s/it]\n"
     ]
    },
    {
     "name": "stdout",
     "output_type": "stream",
     "text": [
      "Validating...\n"
     ]
    },
    {
     "name": "stderr",
     "output_type": "stream",
     "text": [
      "100%|██████████| 227/227 [01:57<00:00,  1.94it/s]\n"
     ]
    },
    {
     "name": "stdout",
     "output_type": "stream",
     "text": [
      "Train loss: 2.27 | Test loss: 2.37\n",
      "Saved weights to models/MeshVAE/10/best.pt\n",
      "==========Epoch 23==========\n",
      "Training...\n"
     ]
    },
    {
     "name": "stderr",
     "output_type": "stream",
     "text": [
      "100%|██████████| 998/998 [27:28<00:00,  1.65s/it]\n"
     ]
    },
    {
     "name": "stdout",
     "output_type": "stream",
     "text": [
      "Validating...\n"
     ]
    },
    {
     "name": "stderr",
     "output_type": "stream",
     "text": [
      "100%|██████████| 227/227 [01:35<00:00,  2.38it/s]\n"
     ]
    },
    {
     "name": "stdout",
     "output_type": "stream",
     "text": [
      "Train loss: 2.23 | Test loss: 2.35\n",
      "Saved weights to models/MeshVAE/10/best.pt\n",
      "==========Epoch 24==========\n",
      "Training...\n"
     ]
    },
    {
     "name": "stderr",
     "output_type": "stream",
     "text": [
      "100%|██████████| 998/998 [24:02<00:00,  1.45s/it]\n"
     ]
    },
    {
     "name": "stdout",
     "output_type": "stream",
     "text": [
      "Validating...\n"
     ]
    },
    {
     "name": "stderr",
     "output_type": "stream",
     "text": [
      "100%|██████████| 227/227 [02:06<00:00,  1.80it/s]\n"
     ]
    },
    {
     "name": "stdout",
     "output_type": "stream",
     "text": [
      "Train loss: 2.23 | Test loss: 2.38\n",
      "Saved weights to models/MeshVAE/10/last.pt\n",
      "==========Epoch 25==========\n",
      "Training...\n"
     ]
    },
    {
     "name": "stderr",
     "output_type": "stream",
     "text": [
      "100%|██████████| 998/998 [29:43<00:00,  1.79s/it]\n"
     ]
    },
    {
     "name": "stdout",
     "output_type": "stream",
     "text": [
      "Validating...\n"
     ]
    },
    {
     "name": "stderr",
     "output_type": "stream",
     "text": [
      "100%|██████████| 227/227 [02:06<00:00,  1.80it/s]\n"
     ]
    },
    {
     "name": "stdout",
     "output_type": "stream",
     "text": [
      "Train loss: 2.21 | Test loss: 2.40\n",
      "Saved weights to models/MeshVAE/10/last.pt\n",
      "==========Epoch 26==========\n",
      "Training...\n"
     ]
    },
    {
     "name": "stderr",
     "output_type": "stream",
     "text": [
      "100%|██████████| 998/998 [31:49<00:00,  1.91s/it]\n"
     ]
    },
    {
     "name": "stdout",
     "output_type": "stream",
     "text": [
      "Validating...\n"
     ]
    },
    {
     "name": "stderr",
     "output_type": "stream",
     "text": [
      "100%|██████████| 227/227 [02:05<00:00,  1.80it/s]\n"
     ]
    },
    {
     "name": "stdout",
     "output_type": "stream",
     "text": [
      "Train loss: 2.20 | Test loss: 2.35\n",
      "Saved weights to models/MeshVAE/10/last.pt\n",
      "==========Epoch 27==========\n",
      "Training...\n"
     ]
    },
    {
     "name": "stderr",
     "output_type": "stream",
     "text": [
      "100%|██████████| 998/998 [28:30<00:00,  1.71s/it]\n"
     ]
    },
    {
     "name": "stdout",
     "output_type": "stream",
     "text": [
      "Validating...\n"
     ]
    },
    {
     "name": "stderr",
     "output_type": "stream",
     "text": [
      "100%|██████████| 227/227 [01:36<00:00,  2.36it/s]\n"
     ]
    },
    {
     "name": "stdout",
     "output_type": "stream",
     "text": [
      "Train loss: 2.18 | Test loss: 2.36\n",
      "Saved weights to models/MeshVAE/10/last.pt\n",
      "==========Epoch 28==========\n",
      "Training...\n"
     ]
    },
    {
     "name": "stderr",
     "output_type": "stream",
     "text": [
      "100%|██████████| 998/998 [24:06<00:00,  1.45s/it]\n"
     ]
    },
    {
     "name": "stdout",
     "output_type": "stream",
     "text": [
      "Validating...\n"
     ]
    },
    {
     "name": "stderr",
     "output_type": "stream",
     "text": [
      "100%|██████████| 227/227 [01:36<00:00,  2.36it/s]\n"
     ]
    },
    {
     "name": "stdout",
     "output_type": "stream",
     "text": [
      "Train loss: 2.17 | Test loss: 2.36\n",
      "Saved weights to models/MeshVAE/10/last.pt\n",
      "Restored best weights\n"
     ]
    }
   ],
   "source": [
    "epochs = 100\n",
    "# optimizer = torch.optim.Adam(model.parameters(), lr=5e-5)\n",
    "torch.autograd.set_detect_anomaly(True)\n",
    "max_VRAM_optim_fit(train_launch=10,\n",
    "                   model=model, optimizer=optimizer, criterion=criterion,\n",
    "                   train_dl=train_dl, test_dl=test_dl, \n",
    "                   device=device, epochs=epochs,\n",
    "                   scheduler=scheduler,\n",
    "                   weights_save_dir=Path('./models'),\n",
    "                   early_stopping=True, early_stopping_tolerance = 5,\n",
    "                   restore_best_weights=True, save_loss_history=True, overfit_mode=False)"
   ]
  },
  {
   "cell_type": "markdown",
   "id": "8262d142-cb52-4b06-8fb1-547b5879a941",
   "metadata": {},
   "source": [
    "## Инференс!!"
   ]
  },
  {
   "cell_type": "code",
   "execution_count": 71,
   "id": "0fd36de6-a78e-4a25-86fa-93f1c8ad164b",
   "metadata": {
    "scrolled": true
   },
   "outputs": [
    {
     "data": {
      "text/plain": [
       "MeshVAE(\n",
       "  (encoder): Encoder(\n",
       "    (conv_in): Conv3d(40, 64, kernel_size=(7, 7, 7), stride=(1, 1, 1), padding=(3, 3, 3))\n",
       "    (res_down_block1): ResDown(\n",
       "      (conv1): Conv3d(64, 64, kernel_size=(3, 3, 3), stride=(2, 2, 2), padding=(1, 1, 1))\n",
       "      (bn1): BatchNorm3d(64, eps=0.0001, momentum=0.1, affine=True, track_running_stats=True)\n",
       "      (conv2): Conv3d(64, 128, kernel_size=(3, 3, 3), stride=(1, 1, 1), padding=(1, 1, 1))\n",
       "      (bn2): BatchNorm3d(128, eps=0.0001, momentum=0.1, affine=True, track_running_stats=True)\n",
       "      (conv3): Conv3d(64, 128, kernel_size=(3, 3, 3), stride=(2, 2, 2), padding=(1, 1, 1))\n",
       "      (act_fnc): ELU(alpha=1.0)\n",
       "    )\n",
       "    (res_down_block2): ResDown(\n",
       "      (conv1): Conv3d(128, 128, kernel_size=(3, 3, 3), stride=(2, 2, 2), padding=(1, 1, 1))\n",
       "      (bn1): BatchNorm3d(128, eps=0.0001, momentum=0.1, affine=True, track_running_stats=True)\n",
       "      (conv2): Conv3d(128, 256, kernel_size=(3, 3, 3), stride=(1, 1, 1), padding=(1, 1, 1))\n",
       "      (bn2): BatchNorm3d(256, eps=0.0001, momentum=0.1, affine=True, track_running_stats=True)\n",
       "      (conv3): Conv3d(128, 256, kernel_size=(3, 3, 3), stride=(2, 2, 2), padding=(1, 1, 1))\n",
       "      (act_fnc): ELU(alpha=1.0)\n",
       "    )\n",
       "    (res_down_block3): ResDown(\n",
       "      (conv1): Conv3d(256, 256, kernel_size=(3, 3, 3), stride=(2, 2, 2), padding=(1, 1, 1))\n",
       "      (bn1): BatchNorm3d(256, eps=0.0001, momentum=0.1, affine=True, track_running_stats=True)\n",
       "      (conv2): Conv3d(256, 512, kernel_size=(3, 3, 3), stride=(1, 1, 1), padding=(1, 1, 1))\n",
       "      (bn2): BatchNorm3d(512, eps=0.0001, momentum=0.1, affine=True, track_running_stats=True)\n",
       "      (conv3): Conv3d(256, 512, kernel_size=(3, 3, 3), stride=(2, 2, 2), padding=(1, 1, 1))\n",
       "      (act_fnc): ELU(alpha=1.0)\n",
       "    )\n",
       "    (res_down_block4): ResDown(\n",
       "      (conv1): Conv3d(512, 512, kernel_size=(3, 3, 3), stride=(2, 2, 2), padding=(1, 1, 1))\n",
       "      (bn1): BatchNorm3d(512, eps=0.0001, momentum=0.1, affine=True, track_running_stats=True)\n",
       "      (conv2): Conv3d(512, 1024, kernel_size=(3, 3, 3), stride=(1, 1, 1), padding=(1, 1, 1))\n",
       "      (bn2): BatchNorm3d(1024, eps=0.0001, momentum=0.1, affine=True, track_running_stats=True)\n",
       "      (conv3): Conv3d(512, 1024, kernel_size=(3, 3, 3), stride=(2, 2, 2), padding=(1, 1, 1))\n",
       "      (act_fnc): ELU(alpha=1.0)\n",
       "    )\n",
       "    (act_fnc): ELU(alpha=1.0)\n",
       "  )\n",
       "  (reparametrize): Reparametrize(\n",
       "    (conv_mu): Conv2d(1024, 512, kernel_size=(4, 4), stride=(1, 1))\n",
       "    (conv_log_var): Conv2d(1024, 512, kernel_size=(4, 4), stride=(1, 1))\n",
       "  )\n",
       "  (decoder): Decoder(\n",
       "    (conv_t_up): ConvTranspose3d(512, 1024, kernel_size=(4, 4, 4), stride=(1, 1, 1))\n",
       "    (res_up_block1): ResUp(\n",
       "      (conv1): Conv3d(1024, 512, kernel_size=(3, 3, 3), stride=(1, 1, 1), padding=(1, 1, 1))\n",
       "      (bn1): BatchNorm3d(512, eps=0.0001, momentum=0.1, affine=True, track_running_stats=True)\n",
       "      (conv2): Conv3d(512, 512, kernel_size=(3, 3, 3), stride=(1, 1, 1), padding=(1, 1, 1))\n",
       "      (bn2): BatchNorm3d(512, eps=0.0001, momentum=0.1, affine=True, track_running_stats=True)\n",
       "      (conv3): Conv3d(1024, 512, kernel_size=(3, 3, 3), stride=(1, 1, 1), padding=(1, 1, 1))\n",
       "      (up_nn): Upsample(scale_factor=2.0, mode='nearest')\n",
       "      (act_fnc): ELU(alpha=1.0)\n",
       "    )\n",
       "    (res_up_block2): ResUp(\n",
       "      (conv1): Conv3d(512, 256, kernel_size=(3, 3, 3), stride=(1, 1, 1), padding=(1, 1, 1))\n",
       "      (bn1): BatchNorm3d(256, eps=0.0001, momentum=0.1, affine=True, track_running_stats=True)\n",
       "      (conv2): Conv3d(256, 256, kernel_size=(3, 3, 3), stride=(1, 1, 1), padding=(1, 1, 1))\n",
       "      (bn2): BatchNorm3d(256, eps=0.0001, momentum=0.1, affine=True, track_running_stats=True)\n",
       "      (conv3): Conv3d(512, 256, kernel_size=(3, 3, 3), stride=(1, 1, 1), padding=(1, 1, 1))\n",
       "      (up_nn): Upsample(scale_factor=2.0, mode='nearest')\n",
       "      (act_fnc): ELU(alpha=1.0)\n",
       "    )\n",
       "    (res_up_block3): ResUp(\n",
       "      (conv1): Conv3d(256, 128, kernel_size=(3, 3, 3), stride=(1, 1, 1), padding=(1, 1, 1))\n",
       "      (bn1): BatchNorm3d(128, eps=0.0001, momentum=0.1, affine=True, track_running_stats=True)\n",
       "      (conv2): Conv3d(128, 128, kernel_size=(3, 3, 3), stride=(1, 1, 1), padding=(1, 1, 1))\n",
       "      (bn2): BatchNorm3d(128, eps=0.0001, momentum=0.1, affine=True, track_running_stats=True)\n",
       "      (conv3): Conv3d(256, 128, kernel_size=(3, 3, 3), stride=(1, 1, 1), padding=(1, 1, 1))\n",
       "      (up_nn): Upsample(scale_factor=2.0, mode='nearest')\n",
       "      (act_fnc): ELU(alpha=1.0)\n",
       "    )\n",
       "    (res_up_block4): ResUp(\n",
       "      (conv1): Conv3d(128, 64, kernel_size=(3, 3, 3), stride=(1, 1, 1), padding=(1, 1, 1))\n",
       "      (bn1): BatchNorm3d(64, eps=0.0001, momentum=0.1, affine=True, track_running_stats=True)\n",
       "      (conv2): Conv3d(64, 64, kernel_size=(3, 3, 3), stride=(1, 1, 1), padding=(1, 1, 1))\n",
       "      (bn2): BatchNorm3d(64, eps=0.0001, momentum=0.1, affine=True, track_running_stats=True)\n",
       "      (conv3): Conv3d(128, 64, kernel_size=(3, 3, 3), stride=(1, 1, 1), padding=(1, 1, 1))\n",
       "      (up_nn): Upsample(scale_factor=2.0, mode='nearest')\n",
       "      (act_fnc): ELU(alpha=1.0)\n",
       "    )\n",
       "    (conv_out): Conv3d(64, 2, kernel_size=(3, 3, 3), stride=(1, 1, 1), padding=(1, 1, 1))\n",
       "    (act_fnc): ELU(alpha=1.0)\n",
       "  )\n",
       ")"
      ]
     },
     "execution_count": 71,
     "metadata": {},
     "output_type": "execute_result"
    }
   ],
   "source": [
    "# model = MeshVAE().to(device)\n",
    "model.load_state_dict(torch.load(Path('./models') / 'MeshVAE' / '00' / 'best.pt'))\n",
    "model.eval()"
   ]
  },
  {
   "cell_type": "code",
   "execution_count": 72,
   "id": "e3a98b76-3200-45f2-a1bb-a71cbb6b0d7e",
   "metadata": {},
   "outputs": [
    {
     "data": {
      "text/plain": [
       "(torch.Size([40, 64, 64]), torch.Size([40, 64, 64]))"
      ]
     },
     "execution_count": 72,
     "metadata": {},
     "output_type": "execute_result"
    }
   ],
   "source": [
    "dataset_model_number = 2500\n",
    "\n",
    "datasets = [dataset_train, dataset_test]\n",
    "dataset = datasets[0]\n",
    "\n",
    "rs = model.render_size\n",
    "resize = Resize((rs, rs))\n",
    "\n",
    "def get_renders():\n",
    "    return torch.stack((dataset[dataset_model_number], dataset[dataset_model_number]), 0)\n",
    "\n",
    "ren_imgs, rend_sils = None, None\n",
    "target_imgs, target_sils = None, None\n",
    "with torch.inference_mode():\n",
    "    # get model\n",
    "    input_renders = get_renders()\n",
    "    target_renders, target_silhouttes = input_renders.to(device).split([1, 1], dim = 1)\n",
    "    target_renders, target_silhouttes = target_renders.squeeze().unsqueeze(2), target_silhouttes.squeeze().unsqueeze(2)\n",
    "    target_imgs, target_sils = target_renders.cpu(), target_silhouttes.cpu()\n",
    "    mu, logvar, output_model = model(target_renders)\n",
    "\n",
    "    num_views, azimuth_range = 40, 180.0\n",
    "    elev = torch.linspace(0, 0, num_views)  # keep constant\n",
    "    azim = torch.linspace(-azimuth_range, azimuth_range, num_views) + 180.0\n",
    "    R, T = look_at_view_transform(dist=2.7, elev=elev, azim=azim)\n",
    "    target_cameras = FoVPerspectiveCameras(device=device, R=R, T=T)\n",
    "    target_cameras = target_cameras.to(device)\n",
    "\n",
    "    rendered_images_silhouettes = model.get_renders(output_model, target_cameras)\n",
    "    rendered_images, rendered_silhouttes = rendered_images_silhouettes.split([1, 1], dim = -1)\n",
    "    ren_imgs, rend_sils = rendered_images.permute(0, 1, 4, 2, 3), rendered_silhouttes.permute(0, 1, 4, 2, 3)\n",
    "\n",
    "    del input_renders\n",
    "    del rendered_images_silhouettes\n",
    "    del rendered_images\n",
    "    del rendered_silhouttes\n",
    "    del target_cameras\n",
    "    torch.cuda.empty_cache()\n",
    "\n",
    "ren_imgs, rend_sils = ren_imgs.squeeze().detach().cpu()[0], rend_sils.squeeze().detach().cpu()[0]\n",
    "ren_imgs.shape, rend_sils.shape"
   ]
  },
  {
   "cell_type": "code",
   "execution_count": 73,
   "id": "c390201d-4d31-480c-821c-929372f7e10e",
   "metadata": {},
   "outputs": [
    {
     "data": {
      "text/plain": [
       "<matplotlib.image.AxesImage at 0x7f37de97c7c0>"
      ]
     },
     "execution_count": 73,
     "metadata": {},
     "output_type": "execute_result"
    },
    {
     "data": {
      "image/png": "[encoded data removed]",
      "text/plain": [
       "<Figure size 640x480 with 1 Axes>"
      ]
     },
     "metadata": {},
     "output_type": "display_data"
    }
   ],
   "source": [
    "camera_num = 25\n",
    "targ_cam = target_imgs[0][camera_num].unsqueeze(0).squeeze()\n",
    "# \n",
    "plt.imshow(torch.hstack((ren_imgs[camera_num] / torch.max(ren_imgs[camera_num]), targ_cam / torch.max(targ_cam))), cmap='gray')\n",
    "# plt.imshow(ren_imgs[camera_num] // torch.max(ren_imgs[camera_num]), cmap='gray')"
   ]
  },
  {
   "cell_type": "code",
   "execution_count": 74,
   "id": "f354f8e2-3636-4d05-a183-5e7e1562dddc",
   "metadata": {},
   "outputs": [],
   "source": [
    "# import imageio\n",
    "# from skimage import img_as_ubyte\n",
    "from PIL import Image\n",
    "from torchvision.transforms.functional import to_pil_image\n",
    "\n",
    "imgs = list()\n",
    "save_path = Path('./recreated_models')\n",
    "save_path.mkdir(exist_ok=True)\n",
    "for camera_num, img in enumerate(ren_imgs):\n",
    "    targ_cam = target_imgs[0][camera_num].unsqueeze(0).squeeze()\n",
    "    imgs.append(to_pil_image(torch.hstack((ren_imgs[camera_num] / torch.max(ren_imgs[camera_num]), targ_cam)), mode='L'))\n",
    "    \n",
    "# imageio.mimsave('model_recreated16.gif', imgs)\n",
    "imgs[0].save(save_path / \"out.gif\", save_all=True, append_images=imgs[1:], duration=100, loop=0)"
   ]
  }
 ],
 "metadata": {
  "kernelspec": {
   "display_name": "PyTorch3D",
   "language": "python",
   "name": "pytorch3d"
  },
  "language_info": {
   "codemirror_mode": {
    "name": "ipython",
    "version": 3
   },
   "file_extension": ".py",
   "mimetype": "text/x-python",
   "name": "python",
   "nbconvert_exporter": "python",
   "pygments_lexer": "ipython3",
   "version": "3.9.21"
  }
 },
 "nbformat": 4,
 "nbformat_minor": 5
}
